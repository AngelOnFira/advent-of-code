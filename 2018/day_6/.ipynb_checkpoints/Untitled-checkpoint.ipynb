{
 "cells": [
  {
   "cell_type": "code",
   "execution_count": 12,
   "metadata": {},
   "outputs": [],
   "source": [
    "# Read input into lines\n",
    "with open(\"input.txt\") as fp: lines = fp.read().splitlines()"
   ]
  },
  {
   "cell_type": "code",
   "execution_count": 7,
   "metadata": {},
   "outputs": [],
   "source": [
    "def dist(x1, y1, x2, y2):\n",
    "    return (pow(x1 - x2, 2) + pow(y1 - y2, 2))"
   ]
  },
  {
   "cell_type": "code",
   "execution_count": 22,
   "metadata": {},
   "outputs": [
    {
     "ename": "IndentationError",
     "evalue": "expected an indented block (<ipython-input-22-dc1b5df82c64>, line 41)",
     "output_type": "error",
     "traceback": [
      "\u001b[0;36m  File \u001b[0;32m\"<ipython-input-22-dc1b5df82c64>\"\u001b[0;36m, line \u001b[0;32m41\u001b[0m\n\u001b[0;31m    max_val = 0\u001b[0m\n\u001b[0m               ^\u001b[0m\n\u001b[0;31mIndentationError\u001b[0m\u001b[0;31m:\u001b[0m expected an indented block\n"
     ]
    }
   ],
   "source": [
    "# Main\n",
    "\n",
    "xs = []\n",
    "ys = []\n",
    "\n",
    "w, h = 8, 9;\n",
    "plane = {}\n",
    "Matrix = [[0 for x in range(w)] for y in range(h)] \n",
    "\n",
    "for line in lines:\n",
    "    xs.append(int(line.split(\", \")[0]) - 1)\n",
    "    ys.append(int(line.split(\", \")[1]) - 1)\n",
    "    \n",
    "print(xs, ys)\n",
    "\n",
    "\n",
    "for y in range(h):\n",
    "    for x in range(w):\n",
    "        min_val = -1\n",
    "        min_ind = 0\n",
    "        for i in range(len(xs)):\n",
    "            this_dist = dist(x, y, xs[i], ys[i])\n",
    "            if this_dist == min_val:\n",
    "                min_val = -1\n",
    "                min_ind = -1\n",
    "                break\n",
    "            elif this_dist < min_val or min_val == -1:\n",
    "                min_val = this_dist\n",
    "                min_ind = i\n",
    "        Matrix[x][y] = min_ind\n",
    "        if min_ind not in plane:\n",
    "            plane[min_ind] = 1\n",
    "        else:\n",
    "            plane[min_ind] += 1\n",
    "print(Matrix)\n",
    "\n",
    "#for x in range(w):\n",
    " #   for y in range(h):\n",
    "        \n",
    "\n",
    "max_val = 0\n",
    "max_key = 0\n",
    "for (k, v) in plane:\n",
    "    if v> max_val:\n",
    "        max_val = v\n",
    "        max_key = k\n",
    "    \n",
    "print(max_val)\n",
    "print(max_key)"
   ]
  },
  {
   "cell_type": "code",
   "execution_count": null,
   "metadata": {},
   "outputs": [],
   "source": []
  }
 ],
 "metadata": {
  "kernelspec": {
   "display_name": "Python 2",
   "language": "python",
   "name": "python2"
  },
  "language_info": {
   "codemirror_mode": {
    "name": "ipython",
    "version": 2
   },
   "file_extension": ".py",
   "mimetype": "text/x-python",
   "name": "python",
   "nbconvert_exporter": "python",
   "pygments_lexer": "ipython2",
   "version": "2.7.15rc1"
  }
 },
 "nbformat": 4,
 "nbformat_minor": 2
}
