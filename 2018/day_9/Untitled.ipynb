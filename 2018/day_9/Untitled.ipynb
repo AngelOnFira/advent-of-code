{
 "cells": [
  {
   "cell_type": "code",
   "execution_count": 79,
   "metadata": {},
   "outputs": [],
   "source": [
    "# Read input into lines\n",
    "with open(\"input.txt\") as fp: lines = fp.read().splitlines()"
   ]
  },
  {
   "cell_type": "code",
   "execution_count": 46,
   "metadata": {
    "scrolled": true
   },
   "outputs": [
    {
     "ename": "KeyboardInterrupt",
     "evalue": "",
     "output_type": "error",
     "traceback": [
      "\u001b[0;31m---------------------------------------------------------------------------\u001b[0m",
      "\u001b[0;31mKeyboardInterrupt\u001b[0m                         Traceback (most recent call last)",
      "\u001b[0;32m<ipython-input-46-7c1f69355969>\u001b[0m in \u001b[0;36m<module>\u001b[0;34m()\u001b[0m\n\u001b[1;32m     32\u001b[0m             \u001b[0mcurrent_pos\u001b[0m \u001b[0;34m=\u001b[0m \u001b[0;36m1\u001b[0m\u001b[0;34m\u001b[0m\u001b[0m\n\u001b[1;32m     33\u001b[0m     \u001b[0;32melse\u001b[0m\u001b[0;34m:\u001b[0m\u001b[0;34m\u001b[0m\u001b[0m\n\u001b[0;32m---> 34\u001b[0;31m         \u001b[0mcircle\u001b[0m\u001b[0;34m.\u001b[0m\u001b[0minsert\u001b[0m\u001b[0;34m(\u001b[0m\u001b[0mcurrent_pos\u001b[0m\u001b[0;34m,\u001b[0m \u001b[0mmarble\u001b[0m\u001b[0;34m)\u001b[0m\u001b[0;34m\u001b[0m\u001b[0m\n\u001b[0m\u001b[1;32m     35\u001b[0m         \u001b[0mcurrent_pos\u001b[0m \u001b[0;34m+=\u001b[0m \u001b[0;36m2\u001b[0m\u001b[0;34m\u001b[0m\u001b[0m\n\u001b[1;32m     36\u001b[0m         \u001b[0;32mif\u001b[0m \u001b[0mcurrent_pos\u001b[0m \u001b[0;34m==\u001b[0m \u001b[0mlen\u001b[0m\u001b[0;34m(\u001b[0m\u001b[0mcircle\u001b[0m\u001b[0;34m)\u001b[0m \u001b[0;34m+\u001b[0m \u001b[0;36m1\u001b[0m\u001b[0;34m:\u001b[0m\u001b[0;34m\u001b[0m\u001b[0m\n",
      "\u001b[0;31mKeyboardInterrupt\u001b[0m: "
     ]
    }
   ],
   "source": [
    "# Main\n",
    "from collections import defaultdict\n",
    "from itertools import cycle\n",
    "\n",
    "num_players = 447\n",
    "highest_marble = 7151000\n",
    "\n",
    "player_dict = defaultdict(int)\n",
    "circle = [0]\n",
    "iter_circle = cycle(circle)\n",
    "\n",
    "player_turn = 0\n",
    "current_pos = 1\n",
    "next(iter_circle)\n",
    "for marble in range(1, highest_marble + 2):\n",
    "    \n",
    "    if marble % 23 == 0:\n",
    "        current_pos -= 9\n",
    "        if current_pos < 0:\n",
    "            current_pos = len(circle) + current_pos\n",
    "        popped_marble = circle.pop(current_pos)\n",
    "        player_dict[player_turn] += marble + popped_marble\n",
    "        \n",
    "        current_pos += 2\n",
    "        if current_pos == len(circle) + 1:\n",
    "            current_pos = 1\n",
    "    else:\n",
    "        circle.insert(current_pos, marble)\n",
    "        current_pos += 2\n",
    "        if current_pos == len(circle) + 1:\n",
    "            current_pos = 1\n",
    "        \n",
    "    player_turn = (player_turn + 1) % num_players\n",
    "    \n",
    "print player_dict\n",
    "print max(player_dict.values())"
   ]
  },
  {
   "cell_type": "code",
   "execution_count": 58,
   "metadata": {},
   "outputs": [
    {
     "name": "stdout",
     "output_type": "stream",
     "text": [
      "3273842452\n"
     ]
    }
   ],
   "source": [
    "from collections import defaultdict\n",
    "\n",
    "class Node:\n",
    "    def __init__(self, dataval=None):\n",
    "        self.data = dataval\n",
    "        self.next = None\n",
    "        self.prev = None\n",
    "\n",
    "class DLinkedList:\n",
    "    def __init__(self):\n",
    "        self.head = None\n",
    "\n",
    "list1 = DLinkedList()\n",
    "list1.head = Node(0)\n",
    "\n",
    "num_players = 447\n",
    "highest_marble = 7151000\n",
    "\n",
    "player_dict = defaultdict(int)\n",
    "\n",
    "player_turn = 0\n",
    "current_pos = 1\n",
    "\n",
    "location = list1.head\n",
    "location.next = location\n",
    "location.prev = location\n",
    "\n",
    "for marble in range(1, highest_marble + 1):\n",
    "    \n",
    "    if marble % 23 == 0:\n",
    "        location = location.prev.prev.prev.prev.prev.prev.prev.prev\n",
    "        popped_marble = location.data\n",
    "        location = location.prev\n",
    "        location.next = location.next.next\n",
    "        \n",
    "        player_dict[player_turn] += marble + popped_marble\n",
    "        \n",
    "        location = location.next.next\n",
    "    else:\n",
    "        next_node = location.next\n",
    "        this_node = Node(marble)\n",
    "        \n",
    "        this_node.prev = location\n",
    "        this_node.next = next_node\n",
    "        \n",
    "        location.next = this_node\n",
    "        \n",
    "        this_node.next = next_node\n",
    "        this_node.prev = location\n",
    "        \n",
    "        next_node.prev = this_node\n",
    "        \n",
    "        location = location.next.next\n",
    "        \n",
    "    player_turn = (player_turn + 1) % num_players\n",
    "\n",
    "print max(player_dict.values())"
   ]
  },
  {
   "cell_type": "code",
   "execution_count": 59,
   "metadata": {},
   "outputs": [
    {
     "data": {
      "text/plain": [
       "3273842452"
      ]
     },
     "execution_count": 59,
     "metadata": {},
     "output_type": "execute_result"
    }
   ],
   "source": [
    "from collections import deque, defaultdict\n",
    "\n",
    "def play_game(max_players, last_marble):\n",
    "    scores = defaultdict(int)\n",
    "    circle = deque([0])\n",
    "\n",
    "    for marble in range(1, last_marble + 1):\n",
    "        if marble % 23 == 0:\n",
    "            circle.rotate(7)\n",
    "            scores[marble % max_players] += marble + circle.pop()\n",
    "            circle.rotate(-1)\n",
    "        else:\n",
    "            circle.rotate(-1)\n",
    "            circle.append(marble)\n",
    "\n",
    "    return max(scores.values()) if scores else 0\n",
    "\n",
    "play_game(447, 7151000)"
   ]
  }
 ],
 "metadata": {
  "kernelspec": {
   "display_name": "Python 2",
   "language": "python",
   "name": "python2"
  },
  "language_info": {
   "codemirror_mode": {
    "name": "ipython",
    "version": 2
   },
   "file_extension": ".py",
   "mimetype": "text/x-python",
   "name": "python",
   "nbconvert_exporter": "python",
   "pygments_lexer": "ipython2",
   "version": "2.7.15rc1"
  }
 },
 "nbformat": 4,
 "nbformat_minor": 2
}
