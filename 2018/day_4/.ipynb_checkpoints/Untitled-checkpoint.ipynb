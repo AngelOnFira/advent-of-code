{
 "cells": [
  {
   "cell_type": "code",
   "execution_count": 61,
   "metadata": {},
   "outputs": [],
   "source": [
    "# Read input into lines\n",
    "with open(\"input.txt\") as fp: lines = fp.read().splitlines()"
   ]
  },
  {
   "cell_type": "code",
   "execution_count": 12,
   "metadata": {},
   "outputs": [],
   "source": [
    "# Turn a string into a dict of occurances\n",
    "def string_into_dict(in_string):\n",
    "    out_dict = {}\n",
    "    for char in in_string:\n",
    "        if char in out_dict:\n",
    "            out_dict[char] += 1\n",
    "        else:\n",
    "            out_dict[char] = 1\n",
    "    return out_dict"
   ]
  },
  {
   "cell_type": "code",
   "execution_count": 64,
   "metadata": {},
   "outputs": [
    {
     "name": "stdout",
     "output_type": "stream",
     "text": [
      "[33]\n",
      "#1489 18\n"
     ]
    }
   ],
   "source": [
    "# Main\n",
    "\n",
    "import datetime\n",
    "\n",
    "sleep = {}\n",
    "sleep_time = {}\n",
    "curr_id = \"\"\n",
    "last_hour = 0\n",
    "last_min = 0\n",
    "last_fall = None\n",
    "\n",
    "total_sleep = [] * 60\n",
    "\n",
    "for line in lines:\n",
    "    time = line.split(']')[0][1:]\n",
    "    \n",
    "    year = int(time.split(\" \")[0].split(\"-\")[0])\n",
    "    month = int(time.split(\" \")[0].split(\"-\")[1])\n",
    "    day = int(time.split(\" \")[0].split(\"-\")[2])\n",
    "    \n",
    "    hour = int(time.split(\" \")[1].split(\":\")[0])\n",
    "    minu = int(time.split(\" \")[1].split(\":\")[1])\n",
    "    \n",
    "    in_time = datetime.datetime(year, month, day, hour, minu)\n",
    "    \n",
    "    action = line.split(']')[1].split(\" \")[1]\n",
    "    if action == 'Guard':\n",
    "        curr_id = line.split(']')[1].split(\" \")[2]\n",
    "    if action == 'falls':\n",
    "        sleep[curr_id] = in_time\n",
    "        last_hour = hour\n",
    "        last_min = minu\n",
    "        last_fall=in_time\n",
    "    if action == 'wakes':\n",
    "        if last_min > minu:\n",
    "            print last_min, minu\n",
    "            minu += 60\n",
    "        if curr_id in sleep_time:\n",
    "            sleep_time[curr_id][0] += (in_time - last_fall).seconds\n",
    "        else:\n",
    "            sleep_time[curr_id] = [(in_time - last_fall).seconds, [0] * 60]\n",
    "        for i in range(last_min, minu):\n",
    "            sleep_time[curr_id][1][i % 60] += 1\n",
    "\n",
    "maxnum = 0\n",
    "maxid = \"\"\n",
    "\n",
    "for k in sleep_time.keys():\n",
    "    if max(sleep_time[k][1]) > maxnum:\n",
    "        maxid = k\n",
    "        maxnum = max(sleep_time[k][1])\n",
    "        \n",
    "m = max(sleep_time[maxid][1])\n",
    "print [i for i, j in enumerate(sleep_time[maxid][1]) if j == m]\n",
    "        \n",
    "print maxid, maxnum\n",
    "    \n",
    "    #print in_time\n"
   ]
  },
  {
   "cell_type": "code",
   "execution_count": 39,
   "metadata": {},
   "outputs": [
    {
     "name": "stdout",
     "output_type": "stream",
     "text": [
      "2\n"
     ]
    }
   ],
   "source": [
    "print 22% 10"
   ]
  }
 ],
 "metadata": {
  "kernelspec": {
   "display_name": "Python 2",
   "language": "python",
   "name": "python2"
  },
  "language_info": {
   "codemirror_mode": {
    "name": "ipython",
    "version": 2
   },
   "file_extension": ".py",
   "mimetype": "text/x-python",
   "name": "python",
   "nbconvert_exporter": "python",
   "pygments_lexer": "ipython2",
   "version": "2.7.15rc1"
  }
 },
 "nbformat": 4,
 "nbformat_minor": 2
}
