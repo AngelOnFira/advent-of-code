{
 "cells": [
  {
   "cell_type": "code",
   "execution_count": 79,
   "metadata": {},
   "outputs": [],
   "source": [
    "# Read input into lines\n",
    "with open(\"input.txt\") as fp: lines = fp.read().splitlines()"
   ]
  },
  {
   "cell_type": "code",
   "execution_count": 1,
   "metadata": {},
   "outputs": [
    {
     "ename": "NameError",
     "evalue": "name 'lines' is not defined",
     "output_type": "error",
     "traceback": [
      "\u001b[0;31m---------------------------------------------------------------------------\u001b[0m",
      "\u001b[0;31mNameError\u001b[0m                                 Traceback (most recent call last)",
      "\u001b[0;32m<ipython-input-1-4d813f31fced>\u001b[0m in \u001b[0;36m<module>\u001b[0;34m()\u001b[0m\n\u001b[1;32m      4\u001b[0m \u001b[0;32mfrom\u001b[0m \u001b[0mcollections\u001b[0m \u001b[0;32mimport\u001b[0m \u001b[0mdefaultdict\u001b[0m\u001b[0;34m\u001b[0m\u001b[0m\n\u001b[1;32m      5\u001b[0m \u001b[0;34m\u001b[0m\u001b[0m\n\u001b[0;32m----> 6\u001b[0;31m \u001b[0mline\u001b[0m \u001b[0;34m=\u001b[0m \u001b[0mlines\u001b[0m\u001b[0;34m[\u001b[0m\u001b[0;36m0\u001b[0m\u001b[0;34m]\u001b[0m\u001b[0;34m.\u001b[0m\u001b[0msplit\u001b[0m\u001b[0;34m(\u001b[0m\u001b[0;34m\" \"\u001b[0m\u001b[0;34m)\u001b[0m\u001b[0;34m\u001b[0m\u001b[0m\n\u001b[0m\u001b[1;32m      7\u001b[0m \u001b[0;34m\u001b[0m\u001b[0m\n\u001b[1;32m      8\u001b[0m \u001b[0madd\u001b[0m \u001b[0;34m=\u001b[0m \u001b[0;34m[\u001b[0m\u001b[0;34m]\u001b[0m\u001b[0;34m\u001b[0m\u001b[0m\n",
      "\u001b[0;31mNameError\u001b[0m: name 'lines' is not defined"
     ]
    }
   ],
   "source": [
    "# Main\n",
    "from collections import defaultdict\n",
    "\n",
    "line = lines[0].split(\" \")\n",
    "\n",
    "add = []\n",
    "#letters = -1\n",
    "         \n",
    "def recurse(loc):\n",
    "    #global letters\n",
    "    \n",
    "    #letters += 1\n",
    "    #letter = chr(letters + 65)\n",
    "    #print loc, total_meta\n",
    "    \n",
    "    children = int(line[loc])\n",
    "    metas = int(line[loc + 1])\n",
    "    \n",
    "    if children == 0:\n",
    "        this_meta = 0\n",
    "        for i in range(metas):\n",
    "            this_meta += int(line[loc + 2 + i])\n",
    "        return [metas + 2, this_meta]\n",
    "    \n",
    "    children_total = 0\n",
    "    children_values = []\n",
    "    for i in range(children):\n",
    "        position = children_total + loc + 2\n",
    "        children_values.append(recurse(position))\n",
    "        \n",
    "    #print children_values\n",
    "    \n",
    "    this_total = 0\n",
    "    for i in range(metas):\n",
    "        if line[loc + 2 + i] < len(children_values):\n",
    "            this_total += children_values[metas[i]][1]\n",
    "            \n",
    "        # int(line[loc + 2 + i + children_total])\n",
    "    \n",
    "    #print letter, \" started at \", loc, \" to \", loc + children_total - 1\n",
    "    return [children_total + metas + 2, this_total]\n",
    "\n",
    "print recurse(0)[1]"
   ]
  },
  {
   "cell_type": "code",
   "execution_count": 22,
   "metadata": {},
   "outputs": [
    {
     "name": "stdout",
     "output_type": "stream",
     "text": [
      "got  ['2', '3', '0', '3', '10', '11', '12', '1', '1', '0', '1', '99', '2', '1', '1', '2']\n",
      "got  ['0', '3', '10', '11', '12', '1', '1', '0', '1', '99', '2', '1', '1', '2']\n",
      "got  ['1', '1', '0', '1', '99', '2', '1', '1', '2']\n",
      "got  ['0', '1', '99', '2', '1', '1', '2']\n",
      "99\n",
      "33\n",
      "2\n",
      "4\n"
     ]
    }
   ],
   "source": [
    "# Main\n",
    "from collections import defaultdict\n",
    "a = '2 3 0 3 10 11 12 1 1 0 1 99 2 1 1 2'\n",
    "line = a.split(\" \")\n",
    "\n",
    "part = 1\n",
    "\n",
    "class Node:\n",
    "    def __init__(self, dataval=None):\n",
    "        self.data = dataval\n",
    "        self.children = []\n",
    "        self.metadata = []\n",
    "        self.score = 0\n",
    "         \n",
    "def read_node(line):\n",
    "    print \"got \", line\n",
    "    num_children = int(line.pop(0))\n",
    "    num_metadata = int(line.pop(0))\n",
    "    \n",
    "    this_node = Node()\n",
    "        \n",
    "    for i in range(num_children):\n",
    "        this_node.children.append(read_node(line))\n",
    "        \n",
    "    for i in range(num_metadata):\n",
    "        this_node.metadata.append(int(line.pop(0)))\n",
    "    \n",
    "    if part == 2:\n",
    "        if len(this_node.children) == 0:\n",
    "            this_node.score = sum(this_node.metadata)\n",
    "        else:\n",
    "            for item in this_node.metadata:\n",
    "                if item < len(this_node.children):\n",
    "                    this_node.score += this_node.children[item].score\n",
    "    elif part == 1:\n",
    "        for meta in this_node.metadata:\n",
    "            this_node.score += meta\n",
    "        \n",
    "    return this_node\n",
    "\n",
    "print read_node(line).score"
   ]
  },
  {
   "cell_type": "code",
   "execution_count": null,
   "metadata": {},
   "outputs": [],
   "source": []
  }
 ],
 "metadata": {
  "kernelspec": {
   "display_name": "Python 2",
   "language": "python",
   "name": "python2"
  },
  "language_info": {
   "codemirror_mode": {
    "name": "ipython",
    "version": 2
   },
   "file_extension": ".py",
   "mimetype": "text/x-python",
   "name": "python",
   "nbconvert_exporter": "python",
   "pygments_lexer": "ipython2",
   "version": "2.7.15rc1"
  }
 },
 "nbformat": 4,
 "nbformat_minor": 2
}
