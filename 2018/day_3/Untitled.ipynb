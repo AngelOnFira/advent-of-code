{
 "cells": [
  {
   "cell_type": "code",
   "execution_count": 16,
   "metadata": {},
   "outputs": [],
   "source": [
    "# Read input into lines\n",
    "with open(\"input.txt\") as fp: lines = fp.read().splitlines()"
   ]
  },
  {
   "cell_type": "code",
   "execution_count": 12,
   "metadata": {},
   "outputs": [],
   "source": [
    "# Turn a string into a dict of occurances\n",
    "def string_into_dict(in_string):\n",
    "    out_dict = {}\n",
    "    for char in in_string:\n",
    "        if char in out_dict:\n",
    "            out_dict[char] += 1\n",
    "        else:\n",
    "            out_dict[char] = 1\n",
    "    return out_dict"
   ]
  },
  {
   "cell_type": "code",
   "execution_count": 40,
   "metadata": {},
   "outputs": [
    {
     "name": "stdout",
     "output_type": "stream",
     "text": [
      "3\n",
      "4\n"
     ]
    }
   ],
   "source": [
    "# Main\n",
    "\n",
    "fab_dict = {}\n",
    "\n",
    "for line in lines:\n",
    "    line_sep_in = line.split(\" \")\n",
    "    \n",
    "    claim = int(line_sep_in[0][1:])\n",
    "    x = int(line_sep_in[2].split(\",\")[0])\n",
    "    y = int(line_sep_in[2].split(\",\")[1][:-1])\n",
    "    \n",
    "    x_dim = int(line_sep_in[3].split(\"x\")[0])\n",
    "    y_dim = int(line_sep_in[3].split(\"x\")[1])\n",
    "    \n",
    "    for this_x in range(x, x + x_dim):\n",
    "        for this_y in range(y, y + y_dim):\n",
    "            pos = str(this_x) + \",\" + str(this_y)\n",
    "            if pos not in fab_dict:\n",
    "                fab_dict[pos] = 1\n",
    "            else:\n",
    "                fab_dict[pos] += 1\n",
    "            \n",
    "    line_sep[0] = int(line_sep_in[0][1:])\n",
    "    \n",
    "for line in lines:\n",
    "    line_sep_in = line.split(\" \")\n",
    "    \n",
    "    claim = int(line_sep_in[0][1:])\n",
    "    x = int(line_sep_in[2].split(\",\")[0])\n",
    "    y = int(line_sep_in[2].split(\",\")[1][:-1])\n",
    "    \n",
    "    x_dim = int(line_sep_in[3].split(\"x\")[0])\n",
    "    y_dim = int(line_sep_in[3].split(\"x\")[1])\n",
    "    \n",
    "    good = True\n",
    "    for this_x in range(x, x + x_dim):\n",
    "        for this_y in range(y, y + y_dim):\n",
    "            pos = str(this_x) + \",\" + str(this_y)\n",
    "            if pos in fab_dict:\n",
    "                if fab_dict[pos] != 1:\n",
    "                    good = False\n",
    "    if good:\n",
    "        print claim\n",
    "    \n",
    "count = 0\n",
    "for key in fab_dict.values():\n",
    "    if key >= 2:\n",
    "        count += 1\n",
    "\n",
    "print count"
   ]
  },
  {
   "cell_type": "code",
   "execution_count": 13,
   "metadata": {},
   "outputs": [
    {
     "name": "stdout",
     "output_type": "stream",
     "text": [
      "{'a': 2, 'c': 3, 'b': 2}\n"
     ]
    }
   ],
   "source": [
    "print string_into_dict(\"aabbccc\")"
   ]
  },
  {
   "cell_type": "code",
   "execution_count": null,
   "metadata": {},
   "outputs": [],
   "source": [
    "false = False"
   ]
  }
 ],
 "metadata": {
  "kernelspec": {
   "display_name": "Python 2",
   "language": "python",
   "name": "python2"
  },
  "language_info": {
   "codemirror_mode": {
    "name": "ipython",
    "version": 2
   },
   "file_extension": ".py",
   "mimetype": "text/x-python",
   "name": "python",
   "nbconvert_exporter": "python",
   "pygments_lexer": "ipython2",
   "version": "2.7.15rc1"
  }
 },
 "nbformat": 4,
 "nbformat_minor": 2
}
