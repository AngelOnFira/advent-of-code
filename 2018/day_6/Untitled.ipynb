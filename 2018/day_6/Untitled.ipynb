{
 "cells": [
  {
   "cell_type": "code",
   "execution_count": 77,
   "metadata": {},
   "outputs": [
    {
     "name": "stdout",
     "output_type": "stream",
     "text": [
      "4\n",
      "273\n",
      "0\n",
      "298\n",
      "{0: 0, 1: 0, 2: 1056, 3: 908, 4: 2001, 5: 0, 6: 0, 7: 0, 8: 0, 9: 1447, 10: 658, 11: 2768, 12: 0, 13: 0, 14: 1577, 15: 2889, 16: 1672, 17: 2129, 18: 0, 19: 2810, 20: 2268, 21: 1401, 22: 1200, 23: 2917, 24: 2840, 25: 1495, 26: 2293, 27: 0, 28: 0, 29: 0, 30: 0, 31: 418, 32: 791, 33: 0, 34: 1826, 35: 955, 36: 2129, 37: 1199, 38: 0, 39: 0, 40: 0, 41: 0, 42: 0, 43: 2198, 44: 0, 45: 0, 46: 1922, 47: 0, 48: 0, 49: 0, -1: 0}\n",
      "2917\n"
     ]
    }
   ],
   "source": [
    "# Main\n",
    "\n",
    "xs = []\n",
    "ys = []\n",
    "\n",
    "w, h = 313, 307;\n",
    "plane = {}\n",
    "Matrix = [[0 for x in range(w)] for y in range(h)] \n",
    "\n",
    "for line in lines:\n",
    "    xs.append(int(line.split(\", \")[0]) - 40)\n",
    "    ys.append(int(line.split(\", \")[1]) - 44)\n",
    "    \n",
    "print(min(xs))\n",
    "print(max(xs))\n",
    "print(min(ys))\n",
    "print(max(ys))\n",
    "    \n",
    "\n",
    "for y in range(h):\n",
    "    for x in range(w):\n",
    "        min_val = -1\n",
    "        min_ind = 0\n",
    "        \n",
    "        same = False\n",
    "        for i in range(len(xs)):\n",
    "            this_dist = dist(x, y, xs[i], ys[i])\n",
    "            if this_dist == min_val:\n",
    "                same = True\n",
    "            elif this_dist < min_val or min_val == -1:\n",
    "                same = False\n",
    "                min_val = this_dist\n",
    "                min_ind = i\n",
    "        if same:\n",
    "            min_val = -1\n",
    "            min_ind = -1\n",
    "        Matrix[y][x] = min_ind\n",
    "        if min_ind not in plane:\n",
    "            plane[min_ind] = 1\n",
    "        else:\n",
    "            plane[min_ind] += 1\n",
    "\n",
    "\n",
    "for x in range(w):\n",
    "    if Matrix[0][x] in plane:\n",
    "        plane[Matrix[0][x]] = 0\n",
    "    if Matrix[h-1][x] in plane:\n",
    "        plane[Matrix[h-1][x]] = 0\n",
    "\n",
    "for y in range(h):\n",
    "    if Matrix[y][0] in plane:\n",
    "        plane[Matrix[y][0]] = 0\n",
    "    if Matrix[y][w-1] in plane:\n",
    "        plane[Matrix[y][w-1]] = 0\n",
    "        \n",
    "print plane\n",
    "        \n",
    "\n",
    "max_val = 0\n",
    "max_key = 0\n",
    "\n",
    "test = []\n",
    "test2=[]\n",
    "for k,v in plane.:\n",
    "    test.append(v)\n",
    "    test2.append(k)\n",
    "    \n",
    "print(max(test))\n",
    "print(max(test))"
   ]
  },
  {
   "cell_type": "code",
   "execution_count": 79,
   "metadata": {},
   "outputs": [],
   "source": [
    "# Read input into lines\n",
    "with open(\"input.txt\") as fp: lines = fp.read().splitlines()"
   ]
  },
  {
   "cell_type": "code",
   "execution_count": 29,
   "metadata": {},
   "outputs": [],
   "source": [
    "def dist(x1, y1, x2, y2):\n",
    "    return (abs(x1 - x2) + abs(y1 - y2))"
   ]
  },
  {
   "cell_type": "code",
   "execution_count": 82,
   "metadata": {},
   "outputs": [
    {
     "name": "stdout",
     "output_type": "stream",
     "text": [
      "40\n",
      "352\n",
      "44\n",
      "350\n",
      "44634\n"
     ]
    }
   ],
   "source": [
    "# Main\n",
    "\n",
    "xs = []\n",
    "ys = []\n",
    "\n",
    "w, h = 400, 400;\n",
    "plane = {}\n",
    "Matrix = [['.' for x in range(w)] for y in range(h)] \n",
    "\n",
    "for line in lines:\n",
    "    xs.append(int(line.split(\", \")[0]))\n",
    "    ys.append(int(line.split(\", \")[1]))\n",
    "    \n",
    "print(min(xs))\n",
    "print(max(xs))\n",
    "print(min(ys))\n",
    "print(max(ys))\n",
    "    \n",
    "count = 0\n",
    "for y in range(-100, h):\n",
    "    for x in range(-100, w):\n",
    "        tot_dist = 0\n",
    "        for i in range(len(xs)):\n",
    "            tot_dist+= dist(x, y, xs[i], ys[i])\n",
    "        \n",
    "        if tot_dist < 10000:\n",
    "            count += 1\n",
    "            Matrix[y][x] = '#'\n",
    "print(count)\n"
   ]
  },
  {
   "cell_type": "code",
   "execution_count": 83,
   "metadata": {},
   "outputs": [
    {
     "name": "stdout",
     "output_type": "stream",
     "text": [
      "('The size of the region with total distance < 10,000 from all coords is', 44634)\n"
     ]
    }
   ],
   "source": [
    "import re\n",
    "\n",
    "def get_lines(name='input.txt'):\n",
    "    with open(name) as input_file:\n",
    "        return input_file.readlines()\n",
    "\n",
    "def get_nums_by_line():\n",
    "    return [tuple([int(match) for match in re.findall(r'-?\\d+', line)]) for line in get_lines()]\n",
    "\n",
    "def manhattan(coord, coord2):\n",
    "    return abs(coord[0] - coord2[0]) + abs(coord[1] - coord2[1])\n",
    "\n",
    "coords = get_nums_by_line()\n",
    "\n",
    "width = max([x for x, _ in coords])\n",
    "height = max([y for _, y in coords])\n",
    "left = min([x for x, _ in coords])\n",
    "top = min([y for _, y in coords])\n",
    "\n",
    "last_region_size = -1\n",
    "valid_region_size = 0\n",
    "\n",
    "max_valid_dist = 10000\n",
    "\n",
    "def coord_is_valid(coord):\n",
    "    total = 0\n",
    "    for other_coord in coords:\n",
    "        total += manhattan(coord, other_coord)\n",
    "    return total < max_valid_dist\n",
    "\n",
    "for x in range(0, width + 1):\n",
    "    for y in range(0, height + 1):\n",
    "        if coord_is_valid((x, y)):\n",
    "            valid_region_size += 1\n",
    "\n",
    "xx = width + 1\n",
    "yy = height + 1\n",
    "while last_region_size != valid_region_size:\n",
    "    last_region_size = valid_region_size\n",
    "    for y in range(yy + 1):\n",
    "        if coord_is_valid((xx, y)):\n",
    "            valid_region_size += 1\n",
    "    for x in range(xx + 1):\n",
    "        if coord_is_valid((x, yy)):\n",
    "            valid_region_size += 1\n",
    "\n",
    "print('The size of the region with total distance < 10,000 from all coords is', valid_region_size)"
   ]
  }
 ],
 "metadata": {
  "kernelspec": {
   "display_name": "Python 2",
   "language": "python",
   "name": "python2"
  },
  "language_info": {
   "codemirror_mode": {
    "name": "ipython",
    "version": 2
   },
   "file_extension": ".py",
   "mimetype": "text/x-python",
   "name": "python",
   "nbconvert_exporter": "python",
   "pygments_lexer": "ipython2",
   "version": "2.7.15rc1"
  }
 },
 "nbformat": 4,
 "nbformat_minor": 2
}
